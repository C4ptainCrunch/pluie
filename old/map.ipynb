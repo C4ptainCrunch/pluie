{
 "cells": [
  {
   "cell_type": "code",
   "execution_count": 30,
   "metadata": {},
   "outputs": [],
   "source": [
    "from IPython.display import Image as IImage\n",
    "from IPython.display import HTML\n",
    "import requests\n",
    "from datetime import datetime, timedelta\n",
    "import time\n",
    "from PIL import Image\n",
    "from __future__ import print_function\n",
    "import base64\n",
    "#import cv2\n",
    "import numpy as np\n",
    "from __future__ import division"
   ]
  },
  {
   "cell_type": "code",
   "execution_count": 4,
   "metadata": {
    "collapsed": true
   },
   "outputs": [],
   "source": [
    "def video(b, mime=\"video/mp4\"):\n",
    "    encoded = base64.b64encode(b)\n",
    "    return HTML(data='''<video alt=\"test\" controls>\n",
    "                    <source src=\"data:{0};base64,{1}\" type=\"{2}\" />\n",
    "                 </video>'''.format(mime,encoded.decode('ascii'),mime))"
   ]
  },
  {
   "cell_type": "code",
   "execution_count": 5,
   "metadata": {},
   "outputs": [],
   "source": [
    "scale_base = {\n",
    "    0  : np.array([0xff, 0xff, 0xff]),\n",
    "    1  : np.array([0xe4, 0xe5, 0xff]),\n",
    "    11 : np.array([0x4d, 0x5d, 0xff]),\n",
    "    21 : np.array([0x00, 0x07, 0x70]),\n",
    "    25 : np.array([0x00, 0x07, 0x70]),\n",
    "    26 : np.array([0xfe, 0x16, 0x00]),\n",
    "    31 : np.array([0xfe, 0x16, 0x00]),\n",
    "    41 : np.array([0xc0, 0x1c, 0xc4]),\n",
    "}\n",
    "\n",
    "scale = np.empty((42, 3), dtype=int)\n",
    "for i in range(42):\n",
    "    start_pos = max([j for j in scale_base.keys() if j <= i])\n",
    "    start = scale_base[start_pos]\n",
    "    stop_pos = min([j for j in scale_base.keys() if j >= i])\n",
    "    stop = scale_base[stop_pos]\n",
    "    \n",
    "    delta = stop_pos - start_pos\n",
    "    if delta == 0:\n",
    "        scale[i] = start\n",
    "        continue\n",
    "    ti = i - start_pos\n",
    "    dist = ti/delta\n",
    "    color = np.array(np.sqrt((1-dist) * start ** 2 + dist * stop ** 2), dtype=int)\n",
    "    scale[i] = color"
   ]
  },
  {
   "cell_type": "code",
   "execution_count": 6,
   "metadata": {},
   "outputs": [
    {
     "data": {
      "text/html": [
       "<span style=\"background-color: #ffffff; width: 1.5em; height: 3em; display: inline-block;\">0</span><span style=\"background-color: #e4e5ff; width: 1.5em; height: 3em; display: inline-block;\">1</span><span style=\"background-color: #d9dbff; width: 1.5em; height: 3em; display: inline-block;\">2</span><span style=\"background-color: #ced1ff; width: 1.5em; height: 3em; display: inline-block;\">3</span><span style=\"background-color: #c3c6ff; width: 1.5em; height: 3em; display: inline-block;\">4</span><span style=\"background-color: #b7baff; width: 1.5em; height: 3em; display: inline-block;\">5</span><span style=\"background-color: #aaaeff; width: 1.5em; height: 3em; display: inline-block;\">6</span><span style=\"background-color: #9ca1ff; width: 1.5em; height: 3em; display: inline-block;\">7</span><span style=\"background-color: #8c93ff; width: 1.5em; height: 3em; display: inline-block;\">8</span><span style=\"background-color: #7b83ff; width: 1.5em; height: 3em; display: inline-block;\">9</span><span style=\"background-color: #6672ff; width: 1.5em; height: 3em; display: inline-block;\">10</span><span style=\"background-color: #4d5dff; width: 1.5em; height: 3em; display: inline-block;\">11</span><span style=\"background-color: #4958f4; width: 1.5em; height: 3em; display: inline-block;\">12</span><span style=\"background-color: #4453e9; width: 1.5em; height: 3em; display: inline-block;\">13</span><span style=\"background-color: #404ddd; width: 1.5em; height: 3em; display: inline-block;\">14</span><span style=\"background-color: #3b48d1; width: 1.5em; height: 3em; display: inline-block;\">15</span><span style=\"background-color: #3641c4; width: 1.5em; height: 3em; display: inline-block;\">16</span><span style=\"background-color: #303bb7; width: 1.5em; height: 3em; display: inline-block;\">17</span><span style=\"background-color: #2a33a8; width: 1.5em; height: 3em; display: inline-block;\">18</span><span style=\"background-color: #222a97; width: 1.5em; height: 3em; display: inline-block;\">19</span><span style=\"background-color: #181e85; width: 1.5em; height: 3em; display: inline-block;\">20</span><span style=\"background-color: #000770; width: 1.5em; height: 3em; display: inline-block;\">21</span><span style=\"background-color: #000770; width: 1.5em; height: 3em; display: inline-block;\">22</span><span style=\"background-color: #000770; width: 1.5em; height: 3em; display: inline-block;\">23</span><span style=\"background-color: #000770; width: 1.5em; height: 3em; display: inline-block;\">24</span><span style=\"background-color: #000770; width: 1.5em; height: 3em; display: inline-block;\">25</span><span style=\"background-color: #fe1600; width: 1.5em; height: 3em; display: inline-block;\">26</span><span style=\"background-color: #fe1600; width: 1.5em; height: 3em; display: inline-block;\">27</span><span style=\"background-color: #fe1600; width: 1.5em; height: 3em; display: inline-block;\">28</span><span style=\"background-color: #fe1600; width: 1.5em; height: 3em; display: inline-block;\">29</span><span style=\"background-color: #fe1600; width: 1.5em; height: 3em; display: inline-block;\">30</span><span style=\"background-color: #fe1600; width: 1.5em; height: 3em; display: inline-block;\">31</span><span style=\"background-color: #f8163d; width: 1.5em; height: 3em; display: inline-block;\">32</span><span style=\"background-color: #f21757; width: 1.5em; height: 3em; display: inline-block;\">33</span><span style=\"background-color: #ed176b; width: 1.5em; height: 3em; display: inline-block;\">34</span><span style=\"background-color: #e7187b; width: 1.5em; height: 3em; display: inline-block;\">35</span><span style=\"background-color: #e1198a; width: 1.5em; height: 3em; display: inline-block;\">36</span><span style=\"background-color: #da1997; width: 1.5em; height: 3em; display: inline-block;\">37</span><span style=\"background-color: #d41aa3; width: 1.5em; height: 3em; display: inline-block;\">38</span><span style=\"background-color: #cd1aaf; width: 1.5em; height: 3em; display: inline-block;\">39</span><span style=\"background-color: #c71bb9; width: 1.5em; height: 3em; display: inline-block;\">40</span><span style=\"background-color: #c01cc4; width: 1.5em; height: 3em; display: inline-block;\">41</span>"
      ],
      "text/plain": [
       "<IPython.core.display.HTML object>"
      ]
     },
     "execution_count": 6,
     "metadata": {},
     "output_type": "execute_result"
    }
   ],
   "source": [
    "spans = ['<span style=\"background-color: #{:02x}{:02x}{:02x}; width: 1.5em; height: 3em; display: inline-block;\">{}</span>'.format(r,g,b, i) for i,(r, g, b) in enumerate(scale)]\n",
    "HTML(data=\"\".join(spans))"
   ]
  },
  {
   "cell_type": "code",
   "execution_count": null,
   "metadata": {},
   "outputs": [],
   "source": [
    "from StringIO import StringIO\n",
    "def make_grayscale(bytes):\n",
    "    fp = StringIO(bytes)\n",
    "    img = Image.open(fp).convert(\"RGBA\")\n",
    "    rgb = np.array(img)\n",
    "    gray = np.empty(rgb.shape[:2], dtype=np.uint8)\n",
    "    \n",
    "    for y in range(gray.shape[0]):\n",
    "        for x in range(gray.shape[1]):\n",
    "            pix = rgb[y][x]\n",
    "            if pix[3] == 0:\n",
    "                gray[y][x] = 0\n",
    "            else:\n",
    "                gray[y][x] = np.linalg.norm(scale - pix[:3], axis=1).argmin() * 5\n",
    "    \n",
    "    return Image.fromarray(gray)\n",
    "    "
   ]
  },
  {
   "cell_type": "code",
   "execution_count": 26,
   "metadata": {},
   "outputs": [
    {
     "name": "stdout",
     "output_type": "stream",
     "text": [
      "(915, 1058, 4)\n",
      ".(915, 1058, 4)\n",
      ".(915, 1058, 4)\n",
      ".(915, 1058, 4)\n",
      ".(915, 1058, 4)\n",
      ".(915, 1058, 4)\n",
      ".(915, 1058, 4)\n",
      ".(915, 1058, 4)\n",
      ".(915, 1058, 4)\n",
      ".(915, 1058, 4)\n",
      ".(915, 1058, 4)\n",
      ".(915, 1058, 4)\n",
      ".(915, 1058, 4)\n",
      ".(915, 1058, 4)\n",
      ".(915, 1058, 4)\n",
      ".(915, 1058, 4)\n",
      ".(915, 1058, 4)\n",
      ".(915, 1058, 4)\n",
      ".(915, 1058, 4)\n",
      ".(915, 1058, 4)\n",
      ".(915, 1058, 4)\n",
      ".(915, 1058, 4)\n",
      ".(915, 1058, 4)\n",
      ".(915, 1058, 4)\n",
      ".(915, 1058, 4)\n",
      ".(915, 1058, 4)\n",
      ".(915, 1058, 4)\n",
      ".(915, 1058, 4)\n",
      ".(915, 1058, 4)\n",
      ".(915, 1058, 4)\n",
      ".(915, 1058, 4)\n",
      ".(915, 1058, 4)\n",
      ".(915, 1058, 4)\n",
      ".(915, 1058, 4)\n",
      "."
     ]
    }
   ],
   "source": [
    "N = 34\n",
    "!mkdir -p raw\n",
    "!rm -f raw/*\n",
    "\n",
    "now = datetime.utcnow()\n",
    "delta = timedelta(minutes=(- now.minute % 5))\n",
    "frame_time = now + delta\n",
    "for i in range(N):\n",
    "    t = frame_time + i * timedelta(minutes=5)\n",
    "    timestr = t.strftime(\"%Y%m%d%H%M\")\n",
    "    r = requests.get(\"http://api.buienradar.nl/image/1.0/webmercatorradarnl/png/?t=%s\" % timestr)\n",
    "    if r.ok:\n",
    "        image = make_grayscale(r.content)\n",
    "        image.save(\"gray/%05i.tiff\" % i)\n",
    "        print(\".\", end=\"\")\n",
    "    else:\n",
    "        break"
   ]
  },
  {
   "cell_type": "code",
   "execution_count": 27,
   "metadata": {
    "collapsed": true
   },
   "outputs": [],
   "source": [
    "def trans(s,t):\n",
    "    A = s.astype(int)\n",
    "    bornes = list(A.shape[::-1])\n",
    "    bornes[0] -= 1\n",
    "    bornes[1] -= 1\n",
    "    \n",
    "    T = t.astype(int)\n",
    "    \n",
    "    T = np.minimum(T, bornes)\n",
    "    T = np.maximum(T, [0, 0])\n",
    "\n",
    "    S = T.reshape(A.size, 2)\n",
    "    return (\n",
    "        A.reshape(A.size)[\n",
    "            S[:,1] * A.shape[1]  + S[:,0] \n",
    "        ]\n",
    "    ).reshape(A.shape)"
   ]
  },
  {
   "cell_type": "code",
   "execution_count": 28,
   "metadata": {},
   "outputs": [
    {
     "ename": "NameError",
     "evalue": "name 'cv2' is not defined",
     "output_type": "error",
     "traceback": [
      "\u001b[0;31m---------------------------------------------------------------------------\u001b[0m",
      "\u001b[0;31mNameError\u001b[0m                                 Traceback (most recent call last)",
      "\u001b[0;32m<ipython-input-28-f26fa3ea5359>\u001b[0m in \u001b[0;36m<module>\u001b[0;34m()\u001b[0m\n\u001b[1;32m     16\u001b[0m     \u001b[0msource\u001b[0m \u001b[0;34m=\u001b[0m \u001b[0mdestination\u001b[0m\u001b[0;34m\u001b[0m\u001b[0m\n\u001b[1;32m     17\u001b[0m     \u001b[0mdestination\u001b[0m \u001b[0;34m=\u001b[0m \u001b[0mnp\u001b[0m\u001b[0;34m.\u001b[0m\u001b[0marray\u001b[0m\u001b[0;34m(\u001b[0m\u001b[0mImage\u001b[0m\u001b[0;34m.\u001b[0m\u001b[0mopen\u001b[0m\u001b[0;34m(\u001b[0m\u001b[0;34m\"gray/%05i.tiff\"\u001b[0m \u001b[0;34m%\u001b[0m \u001b[0;34m(\u001b[0m\u001b[0mi\u001b[0m\u001b[0;34m+\u001b[0m\u001b[0;36m1\u001b[0m\u001b[0;34m)\u001b[0m\u001b[0;34m)\u001b[0m\u001b[0;34m)\u001b[0m\u001b[0;34m\u001b[0m\u001b[0m\n\u001b[0;32m---> 18\u001b[0;31m     \u001b[0mrelative_flow\u001b[0m \u001b[0;34m=\u001b[0m \u001b[0mcv2\u001b[0m\u001b[0;34m.\u001b[0m\u001b[0mcalcOpticalFlowFarneback\u001b[0m\u001b[0;34m(\u001b[0m\u001b[0msource\u001b[0m\u001b[0;34m,\u001b[0m\u001b[0mdestination\u001b[0m\u001b[0;34m,\u001b[0m \u001b[0;36m0.0\u001b[0m\u001b[0;34m,\u001b[0m \u001b[0;36m1\u001b[0m\u001b[0;34m,\u001b[0m \u001b[0;36m3\u001b[0m\u001b[0;34m,\u001b[0m \u001b[0;36m15\u001b[0m\u001b[0;34m,\u001b[0m \u001b[0;36m3\u001b[0m\u001b[0;34m,\u001b[0m \u001b[0;36m5\u001b[0m\u001b[0;34m,\u001b[0m \u001b[0;36m1\u001b[0m\u001b[0;34m,\u001b[0m \u001b[0;36m0\u001b[0m\u001b[0;34m)\u001b[0m\u001b[0;34m\u001b[0m\u001b[0m\n\u001b[0m\u001b[1;32m     19\u001b[0m     \u001b[0mflow\u001b[0m \u001b[0;34m=\u001b[0m \u001b[0mabsolute_coorindates\u001b[0m \u001b[0;34m+\u001b[0m \u001b[0mrelative_flow\u001b[0m\u001b[0;34m\u001b[0m\u001b[0m\n\u001b[1;32m     20\u001b[0m \u001b[0;34m\u001b[0m\u001b[0m\n",
      "\u001b[0;31mNameError\u001b[0m: name 'cv2' is not defined"
     ]
    }
   ],
   "source": [
    "NFRAMES = 4\n",
    "!mkdir -p interpolate\n",
    "!rm -f interpolate/*\n",
    "\n",
    "destination = np.array(Image.open(\"gray/%05i.tiff\" % 0))\n",
    "\n",
    "absolute_coorindates = np.empty(destination.shape + (2,), int)\n",
    "for y in range(absolute_coorindates.shape[0]):\n",
    "    for x in range(absolute_coorindates.shape[1]):\n",
    "        absolute_coorindates[y][x][0] = x\n",
    "        absolute_coorindates[y][x][1] = y\n",
    "        \n",
    "j = 0\n",
    "        \n",
    "for i in range(3):\n",
    "    source = destination\n",
    "    destination = np.array(Image.open(\"gray/%05i.tiff\" % (i+1)))\n",
    "    relative_flow = cv2.calcOpticalFlowFarneback(source,destination, 0.0, 1, 3, 15, 3, 5, 1, 0)\n",
    "    flow = absolute_coorindates + relative_flow\n",
    "    \n",
    "    Image.fromarray(source).save(\"interpolate/%05i.tiff\" % j)\n",
    "    j += 1\n",
    "    \n",
    "    for ti in np.linspace(0, 1, NFRAMES + 1, endpoint=False)[1:]:\n",
    "        back = - ti * flow\n",
    "        forward = (1-ti) * flow\n",
    "        bf = trans(source,back)\n",
    "        af = trans(destination, forward)\n",
    "        frame = (1-ti) * bf + ti * af\n",
    "        \n",
    "        Image.fromarray(frame.astype(np.uint8)).save(\"interpolate/%05i.tiff\" % j)\n",
    "        j += 1\n",
    "\n",
    "Image.fromarray(destination).save(\"interpolate/%05i.tiff\" % j)"
   ]
  },
  {
   "cell_type": "code",
   "execution_count": null,
   "metadata": {},
   "outputs": [],
   "source": [
    "destination.dtype"
   ]
  },
  {
   "cell_type": "code",
   "execution_count": null,
   "metadata": {},
   "outputs": [],
   "source": [
    "%%time\n",
    "\n",
    "NFRAMES = 4\n",
    "\n",
    "new_frames = []\n",
    "for t in range(N-1):\n",
    "    t0 = 0\n",
    "    t1 = t0 + 1\n",
    "    flow = flows[t]\n",
    "    f0 = frames[t][...,1].astype(np.uint16)\n",
    "    f1 = frames[t+1][...,1].astype(np.uint16)\n",
    "    new_frames.append(f0)\n",
    "    \n",
    "    for ti in np.linspace(0, 1, NFRAMES + 1, endpoint=False)[1:]:\n",
    "\n",
    "        back = np.array(coords) - ti * flow\n",
    "        forward = np.array(coords) + (1-ti) * flow\n",
    "        bf = trans(f0,back)\n",
    "        af = trans(f1, forward)\n",
    "        frame = (1-ti) * bf + ti * af\n",
    "        new_frames.append(frame)\n",
    "        \n",
    "new_frames.append(frames[-1][...,1])"
   ]
  },
  {
   "cell_type": "code",
   "execution_count": null,
   "metadata": {},
   "outputs": [],
   "source": [
    "!mkdir -p interpolate\n",
    "!rm -f interpolate/*\n",
    "for i,frame in enumerate(new_frames):\n",
    "    r = Image.fromarray(frame.astype(np.uint8))\n",
    "    r.save(\"interpolate/%05i.png\" % i)\n",
    "\n",
    "! ffmpeg -f image2 -r 24 -i interpolate/%05d.png mov/int.webm -y 2> /dev/null"
   ]
  },
  {
   "cell_type": "code",
   "execution_count": 31,
   "metadata": {
    "collapsed": true
   },
   "outputs": [],
   "source": [
    "! ffmpeg -f image2 -r 2 -i gray/%05d.png mov/gray.webm -y 2> /dev/null\n",
    "! ffmpeg -f image2 -r 24 -i interpolate/%05d.png mov/interpolated.webm -y 2> /dev/null"
   ]
  },
  {
   "cell_type": "code",
   "execution_count": null,
   "metadata": {},
   "outputs": [],
   "source": [
    "! ffmpeg -f image2 -r 2 -i gray/%05d.tiff mov/gray.mp4 -y 2> /dev/null"
   ]
  },
  {
   "cell_type": "code",
   "execution_count": null,
   "metadata": {
    "collapsed": true
   },
   "outputs": [],
   "source": [
    "cap = cv2.VideoCapture(\"mov/gray.mp4\")"
   ]
  },
  {
   "cell_type": "code",
   "execution_count": null,
   "metadata": {
    "collapsed": true
   },
   "outputs": [],
   "source": [
    "ret, frame2 = cap.read()"
   ]
  },
  {
   "cell_type": "code",
   "execution_count": null,
   "metadata": {},
   "outputs": [],
   "source": [
    "frame2.shape"
   ]
  },
  {
   "cell_type": "code",
   "execution_count": null,
   "metadata": {},
   "outputs": [],
   "source": [
    "frame2.dtype"
   ]
  },
  {
   "cell_type": "code",
   "execution_count": null,
   "metadata": {
    "collapsed": true
   },
   "outputs": [],
   "source": [
    "gnext = cv2.cvtColor(frame2,cv2.COLOR_BGR2GRAY)"
   ]
  },
  {
   "cell_type": "code",
   "execution_count": null,
   "metadata": {},
   "outputs": [],
   "source": [
    "gnext.dtype"
   ]
  },
  {
   "cell_type": "code",
   "execution_count": null,
   "metadata": {},
   "outputs": [],
   "source": [
    "gnext.shape"
   ]
  },
  {
   "cell_type": "code",
   "execution_count": null,
   "metadata": {},
   "outputs": [],
   "source": [
    "destination.shape"
   ]
  },
  {
   "cell_type": "code",
   "execution_count": null,
   "metadata": {},
   "outputs": [],
   "source": [
    "destination.dtype"
   ]
  },
  {
   "cell_type": "code",
   "execution_count": 32,
   "metadata": {},
   "outputs": [
    {
     "data": {
      "text/plain": [
       "array([[255, 255, 255],\n",
       "       [228, 229, 255],\n",
       "       [217, 219, 255],\n",
       "       [206, 209, 255],\n",
       "       [195, 198, 255],\n",
       "       [183, 186, 255],\n",
       "       [170, 174, 255],\n",
       "       [156, 161, 255],\n",
       "       [140, 147, 255],\n",
       "       [123, 131, 255],\n",
       "       [102, 114, 255],\n",
       "       [ 77,  93, 255],\n",
       "       [ 73,  88, 244],\n",
       "       [ 68,  83, 233],\n",
       "       [ 64,  77, 221],\n",
       "       [ 59,  72, 209],\n",
       "       [ 54,  65, 196],\n",
       "       [ 48,  59, 183],\n",
       "       [ 42,  51, 168],\n",
       "       [ 34,  42, 151],\n",
       "       [ 24,  30, 133],\n",
       "       [  0,   7, 112],\n",
       "       [  0,   7, 112],\n",
       "       [  0,   7, 112],\n",
       "       [  0,   7, 112],\n",
       "       [  0,   7, 112],\n",
       "       [254,  22,   0],\n",
       "       [254,  22,   0],\n",
       "       [254,  22,   0],\n",
       "       [254,  22,   0],\n",
       "       [254,  22,   0],\n",
       "       [254,  22,   0],\n",
       "       [248,  22,  61],\n",
       "       [242,  23,  87],\n",
       "       [237,  23, 107],\n",
       "       [231,  24, 123],\n",
       "       [225,  25, 138],\n",
       "       [218,  25, 151],\n",
       "       [212,  26, 163],\n",
       "       [205,  26, 175],\n",
       "       [199,  27, 185],\n",
       "       [192,  28, 196]])"
      ]
     },
     "execution_count": 32,
     "metadata": {},
     "output_type": "execute_result"
    }
   ],
   "source": [
    "scale"
   ]
  },
  {
   "cell_type": "code",
   "execution_count": null,
   "metadata": {
    "collapsed": true
   },
   "outputs": [],
   "source": []
  }
 ],
 "metadata": {
  "kernelspec": {
   "display_name": "Python 3",
   "language": "python",
   "name": "python3"
  },
  "language_info": {
   "codemirror_mode": {
    "name": "ipython",
    "version": 3
   },
   "file_extension": ".py",
   "mimetype": "text/x-python",
   "name": "python",
   "nbconvert_exporter": "python",
   "pygments_lexer": "ipython3",
   "version": "3.6.7"
  },
  "widgets": {
   "state": {
    "170f6d8e88ff408ba0a4c5197707f285": {
     "views": []
    },
    "2b08956ee2f848f79727e1e7beecc6a1": {
     "views": []
    },
    "95e5692536cd44f69dfa77fbfa2aa760": {
     "views": []
    }
   },
   "version": "1.1.1"
  }
 },
 "nbformat": 4,
 "nbformat_minor": 1
}
